{
 "cells": [
  {
   "cell_type": "markdown",
   "metadata": {},
   "source": [
    "## Exercises: Module 6\n",
    "##### 1. Create an empty dictionary called dog"
   ]
  },
  {
   "cell_type": "code",
   "execution_count": 1,
   "metadata": {},
   "outputs": [],
   "source": [
    "dog = dict()"
   ]
  },
  {
   "cell_type": "markdown",
   "metadata": {},
   "source": [
    "##### 2. Add name, color, breed, legs, age to the dog dictionary"
   ]
  },
  {
   "cell_type": "code",
   "execution_count": 2,
   "metadata": {},
   "outputs": [],
   "source": [
    "dog['name'] = 'Ducacis'\n",
    "dog['color'] = 'Black'\n",
    "dog['breed'] = 'African'\n",
    "dog['legs'] = 4\n",
    "dog['age'] = 6"
   ]
  },
  {
   "cell_type": "markdown",
   "metadata": {},
   "source": [
    "##### 3. Create a student dictionary and add first_name, last_name, gender, age, marital status, skills, country, city and address as keys for the dictionary"
   ]
  },
  {
   "cell_type": "code",
   "execution_count": 10,
   "metadata": {},
   "outputs": [],
   "source": [
    "student = dict()\n",
    "student.update({'first_name': 'Aliyu', 'last_name': 'Kane','gender': 'male','age': 40,'marital_status': 'Married','skills':['SQL','Excel','Python'], 'country':'Nigeria','city': 'Sokoto','address': 'SKK'})\n"
   ]
  },
  {
   "cell_type": "markdown",
   "metadata": {},
   "source": [
    "##### 4. Get the length of the student dictionary"
   ]
  },
  {
   "cell_type": "code",
   "execution_count": 11,
   "metadata": {},
   "outputs": [
    {
     "name": "stdout",
     "output_type": "stream",
     "text": [
      "length of student dict:  9\n"
     ]
    }
   ],
   "source": [
    "print('length of student dict: ', len(student))"
   ]
  },
  {
   "cell_type": "markdown",
   "metadata": {},
   "source": [
    "##### 5. Get the value of skills and check the data type, it should be a list"
   ]
  },
  {
   "cell_type": "code",
   "execution_count": 12,
   "metadata": {},
   "outputs": [
    {
     "name": "stdout",
     "output_type": "stream",
     "text": [
      "<class 'list'>\n"
     ]
    }
   ],
   "source": [
    "student['skills']\n",
    "print(type(student['skills']))"
   ]
  },
  {
   "cell_type": "markdown",
   "metadata": {},
   "source": [
    "##### 6. Modify the skills values by adding one or two skills"
   ]
  },
  {
   "cell_type": "code",
   "execution_count": 13,
   "metadata": {},
   "outputs": [
    {
     "name": "stdout",
     "output_type": "stream",
     "text": [
      "Checking the modification: {'first_name': 'Aliyu', 'last_name': 'Kane', 'gender': 'male', 'age': 40, 'marital_status': 'Married', 'skills': ['SQL', 'Excel', 'Python', 'HTML'], 'country': 'Nigeria', 'city': 'Sokoto', 'address': 'SKK'}\n"
     ]
    }
   ],
   "source": [
    "student['skills'].append('HTML')\n",
    "print('Checking the modification:', student)"
   ]
  },
  {
   "cell_type": "markdown",
   "metadata": {},
   "source": [
    "##### 7. Get the dictionary keys as a list"
   ]
  },
  {
   "cell_type": "code",
   "execution_count": 14,
   "metadata": {},
   "outputs": [
    {
     "name": "stdout",
     "output_type": "stream",
     "text": [
      "dictionary keys as a list:  dict_keys(['first_name', 'last_name', 'gender', 'age', 'marital_status', 'skills', 'country', 'city', 'address'])\n"
     ]
    }
   ],
   "source": [
    "print('dictionary keys as a list: ',student.keys())"
   ]
  },
  {
   "cell_type": "markdown",
   "metadata": {},
   "source": [
    "##### 8. Get the dictionary values as a list"
   ]
  },
  {
   "cell_type": "code",
   "execution_count": 15,
   "metadata": {},
   "outputs": [
    {
     "name": "stdout",
     "output_type": "stream",
     "text": [
      "dictionary value as a list:  dict_values(['Aliyu', 'Kane', 'male', 40, 'Married', ['SQL', 'Excel', 'Python', 'HTML'], 'Nigeria', 'Sokoto', 'SKK'])\n"
     ]
    }
   ],
   "source": [
    "print('dictionary value as a list: ',student.values())"
   ]
  },
  {
   "cell_type": "markdown",
   "metadata": {},
   "source": [
    "##### 9. Change the dictionary to a list of tuples using items() method"
   ]
  },
  {
   "cell_type": "code",
   "execution_count": 16,
   "metadata": {},
   "outputs": [
    {
     "name": "stdout",
     "output_type": "stream",
     "text": [
      "list of tuples of dict items:  dict_items([('first_name', 'Aliyu'), ('last_name', 'Kane'), ('gender', 'male'), ('age', 40), ('marital_status', 'Married'), ('skills', ['SQL', 'Excel', 'Python', 'HTML']), ('country', 'Nigeria'), ('city', 'Sokoto'), ('address', 'SKK')])\n"
     ]
    }
   ],
   "source": [
    "print('list of tuples of dict items: ',student.items())"
   ]
  },
  {
   "cell_type": "markdown",
   "metadata": {},
   "source": [
    "##### 10. Delete one of the items in the dictionary"
   ]
  },
  {
   "cell_type": "code",
   "execution_count": 17,
   "metadata": {},
   "outputs": [
    {
     "data": {
      "text/plain": [
       "{'first_name': 'Aliyu',\n",
       " 'last_name': 'Kane',\n",
       " 'age': 40,\n",
       " 'marital_status': 'Married',\n",
       " 'skills': ['SQL', 'Excel', 'Python', 'HTML'],\n",
       " 'country': 'Nigeria',\n",
       " 'city': 'Sokoto',\n",
       " 'address': 'SKK'}"
      ]
     },
     "execution_count": 17,
     "metadata": {},
     "output_type": "execute_result"
    }
   ],
   "source": [
    "student.pop('gender')\n",
    "student"
   ]
  },
  {
   "cell_type": "markdown",
   "metadata": {},
   "source": [
    "##### 11. Delete one of the dictionaries"
   ]
  },
  {
   "cell_type": "code",
   "execution_count": null,
   "metadata": {},
   "outputs": [],
   "source": [
    "del student"
   ]
  }
 ],
 "metadata": {
  "kernelspec": {
   "display_name": "base",
   "language": "python",
   "name": "python3"
  },
  "language_info": {
   "codemirror_mode": {
    "name": "ipython",
    "version": 3
   },
   "file_extension": ".py",
   "mimetype": "text/x-python",
   "name": "python",
   "nbconvert_exporter": "python",
   "pygments_lexer": "ipython3",
   "version": "3.12.7"
  }
 },
 "nbformat": 4,
 "nbformat_minor": 2
}
