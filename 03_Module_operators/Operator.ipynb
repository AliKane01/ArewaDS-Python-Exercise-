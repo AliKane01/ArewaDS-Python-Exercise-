{
 "cells": [
  {
   "cell_type": "markdown",
   "metadata": {},
   "source": [
    "## Exercises - Module 3\n",
    "\n",
    "age = 39\n",
    "height = 1.81\n",
    "comp = 2 + 1j\n",
    "\n",
    "##### script one\n",
    "\n",
    "###### Write a script that prompts the user to enter base and height of the triangle and calculate an area of this triangle (area = 0.5 x b x h).\n"
   ]
  },
  {
   "cell_type": "code",
   "execution_count": 2,
   "metadata": {},
   "outputs": [
    {
     "ename": "ValueError",
     "evalue": "could not convert string to float: ''",
     "output_type": "error",
     "traceback": [
      "\u001b[1;31m---------------------------------------------------------------------------\u001b[0m",
      "\u001b[1;31mValueError\u001b[0m                                Traceback (most recent call last)",
      "Cell \u001b[1;32mIn[2], line 1\u001b[0m\n\u001b[1;32m----> 1\u001b[0m b \u001b[38;5;241m=\u001b[39m \u001b[38;5;28;43mfloat\u001b[39;49m\u001b[43m(\u001b[49m\u001b[38;5;28;43minput\u001b[39;49m\u001b[43m(\u001b[49m\u001b[38;5;124;43m\"\u001b[39;49m\u001b[38;5;124;43m20:\u001b[39;49m\u001b[38;5;124;43m\"\u001b[39;49m\u001b[43m)\u001b[49m\u001b[43m)\u001b[49m\n\u001b[0;32m      2\u001b[0m h \u001b[38;5;241m=\u001b[39m \u001b[38;5;28mfloat\u001b[39m(\u001b[38;5;28minput\u001b[39m(\u001b[38;5;124m\"\u001b[39m\u001b[38;5;124m10:\u001b[39m\u001b[38;5;124m\"\u001b[39m))\n\u001b[0;32m      3\u001b[0m area \u001b[38;5;241m=\u001b[39m \u001b[38;5;241m0.5\u001b[39m \u001b[38;5;241m*\u001b[39m b \u001b[38;5;241m*\u001b[39m h\n",
      "\u001b[1;31mValueError\u001b[0m: could not convert string to float: ''"
     ]
    }
   ],
   "source": [
    "b = float(input(\"20:\"))\n",
    "h = float(input(\"10:\"))\n",
    "area = 0.5 * b * h\n",
    "print(\"The area of the triangle is: \", area)"
   ]
  },
  {
   "cell_type": "markdown",
   "metadata": {},
   "source": []
  },
  {
   "cell_type": "markdown",
   "metadata": {},
   "source": [
    "##### script two\n",
    "\n",
    "###### Write a script that prompts the user to enter side a, side b, and side c of the triangle. Calculate the perimeter of the triangle (perimeter = a + b + c).\n"
   ]
  },
  {
   "cell_type": "code",
   "execution_count": null,
   "metadata": {},
   "outputs": [
    {
     "ename": "",
     "evalue": "",
     "output_type": "error",
     "traceback": [
      "\u001b[1;31mFailed to start the Kernel. \n",
      "\u001b[1;31mThe kernel died. Error: ... View Jupyter <a href='command:jupyter.viewOutput'>log</a> for further details."
     ]
    }
   ],
   "source": [
    "a = float(input(\"5: \"))\n",
    "b = float(input(\"4: \"))\n",
    "c = float(input(\"3: \"))\n",
    "perimeter = a + b + c\n",
    "\n",
    "print(\"The perimeter of the triangle is: \", perimeter)\n"
   ]
  },
  {
   "cell_type": "markdown",
   "metadata": {},
   "source": [
    "##### script three\n",
    "###### Get length and width of a rectangle using prompt. \n",
    "###### Calculate its area (area = length x width) and perimeter \n",
    "###### (perimeter = 2 x (length + width))"
   ]
  },
  {
   "cell_type": "code",
   "execution_count": null,
   "metadata": {},
   "outputs": [],
   "source": [
    "length = float(input(\"Enter length of rectangle: \"))\n",
    "breadth = float(input(\"Enter breadth of rectangle: \"))\n",
    "area = length * breadth\n",
    "print(\"The area of the rectangle is \",area, \" square meters\")"
   ]
  },
  {
   "cell_type": "markdown",
   "metadata": {},
   "source": [
    "###### Get radius of a circle using prompt. Calculate the area (area = pi x r x r) and circumference (c = 2 x pi x r) where pi = 3.14.\n"
   ]
  },
  {
   "cell_type": "code",
   "execution_count": null,
   "metadata": {},
   "outputs": [],
   "source": [
    "import math\n",
    "r = float(input(\"Input the radius of the circle: \"))\n",
    "area = math.pi * r ** 2\n",
    "perimeter = 2 * math.pi * r \n",
    "print(\"The area of the circle is: \",area, \" and \", \"the perimeter is : \", perimeter)"
   ]
  },
  {
   "cell_type": "markdown",
   "metadata": {},
   "source": [
    "###### Calculate the slope, x-intercept and y-intercept of y = 2x -2\n",
    "###### The slope is 2 (coefficiet of x) and does not need to be calculated\n",
    "###### x- intercept is the value of x when y = 0\n",
    "###### y- intercept is the value of y when x = 0"
   ]
  },
  {
   "cell_type": "code",
   "execution_count": 5,
   "metadata": {},
   "outputs": [
    {
     "name": "stdout",
     "output_type": "stream",
     "text": [
      "The x-intercept of y = 2x-2 is:  0.0  and  the y-intercept is:  -2\n"
     ]
    }
   ],
   "source": [
    "y = 2 * 0 - 2\n",
    "x = ( 2 * 0 ) / 2\n",
    "print(\"The x-intercept of y = 2x-2 is: \",x, \" and \", \"the y-intercept is: \", y)"
   ]
  },
  {
   "cell_type": "markdown",
   "metadata": {},
   "source": [
    "###### Slope is (m = y2-y1/x2-x1). \n",
    "###### Find the slope and Euclidean distance between point (2, 2) and point (6,10)"
   ]
  },
  {
   "cell_type": "code",
   "execution_count": 4,
   "metadata": {},
   "outputs": [
    {
     "name": "stdout",
     "output_type": "stream",
     "text": [
      "The slope is:  2.0 and the Euclidean distance is: 8.94427190999916\n"
     ]
    }
   ],
   "source": [
    "import math\n",
    "x1,y1,x2,y2 = 2,2,6,10\n",
    "m = (y2 - y1) / (x2 - x1)\n",
    "\n",
    "\n",
    "d2 = ((y2 - y1) ** 2) + ((x2 - x1) ** 2 )\n",
    "d = math.sqrt(d2)\n",
    "print(\"The slope is: \", m, \"and the Euclidean distance is:\" ,d)"
   ]
  },
  {
   "cell_type": "markdown",
   "metadata": {},
   "source": [
    "###### Compare the slopes in tasks 8 and 9.\n",
    "###### The slope for the task 8 is 2 and that for task 9 is 4\n",
    "###### using code, I'll let the slope for task 8 to be m0 since that for task 9 is m"
   ]
  },
  {
   "cell_type": "code",
   "execution_count": 1,
   "metadata": {},
   "outputs": [
    {
     "name": "stdout",
     "output_type": "stream",
     "text": [
      "Equal:  False Unequal:  True\n",
      "Greater than:  False Less than:  True\n"
     ]
    }
   ],
   "source": [
    "m0 = 2\n",
    "m = 4\n",
    "print(\"Equal: \", m0==m, \"Unequal: \", m0 != m)\n",
    "\n",
    "print(\"Greater than: \", m0 > m, \"Less than: \", m0 < m)"
   ]
  },
  {
   "cell_type": "markdown",
   "metadata": {},
   "source": [
    "##### 11. Calculate the value of y (y = x^2 + 6x + 9). Try to use different x values and figure out at what x value y is going to be 0."
   ]
  },
  {
   "cell_type": "code",
   "execution_count": null,
   "metadata": {},
   "outputs": [],
   "source": [
    "x = int(input(\"Value of x: \"))\n",
    "y = x ** 2 + 6 * x + 9\n",
    "print(\"Value of y: \", y)"
   ]
  },
  {
   "cell_type": "markdown",
   "metadata": {},
   "source": [
    "##### 12. Find the length of 'python' and 'dragon' and make a falsy comparison statement."
   ]
  },
  {
   "cell_type": "code",
   "execution_count": null,
   "metadata": {},
   "outputs": [],
   "source": [
    "print(\"Length of python: \", len('python'), \"length of dragon: \", len('dragon'))\n",
    "print(\"Definitely false: \", len('python')> len('dragon'))"
   ]
  },
  {
   "cell_type": "markdown",
   "metadata": {},
   "source": [
    "##### 13. Use and operator to check if 'on' is found in both 'python' and 'dragon'"
   ]
  },
  {
   "cell_type": "code",
   "execution_count": null,
   "metadata": {},
   "outputs": [],
   "source": [
    "print(\"Checking for 'on': \" 'on' in ('python' and 'dragon'))"
   ]
  },
  {
   "cell_type": "markdown",
   "metadata": {},
   "source": [
    "##### 14. I hope this course is not full of jargon. Use in operator to check if jargon is in the sentence."
   ]
  },
  {
   "cell_type": "code",
   "execution_count": null,
   "metadata": {},
   "outputs": [],
   "source": [
    "print(\"jargon in sentence: \", 'jargon' in 'I hope this course is not full of jargon')"
   ]
  },
  {
   "cell_type": "markdown",
   "metadata": {},
   "source": [
    "##### 15. There is no 'on' in both dragon and python"
   ]
  },
  {
   "cell_type": "code",
   "execution_count": null,
   "metadata": {},
   "outputs": [],
   "source": [
    "print(\"There is no 'on' in both dragon and python: \", 'on' not in ('dragon' and 'python'))"
   ]
  },
  {
   "cell_type": "markdown",
   "metadata": {},
   "source": [
    "##### 16. Find the length of the text python and convert the value to float and convert it to string"
   ]
  },
  {
   "cell_type": "code",
   "execution_count": null,
   "metadata": {},
   "outputs": [],
   "source": [
    "a = len('python')\n",
    "b = float(a)\n",
    "c = str(a)\n",
    "print(\"Length, float and string: \",a,b,c)\n"
   ]
  },
  {
   "cell_type": "markdown",
   "metadata": {},
   "source": [
    "##### 17. Even numbers are divisible by 2 and the remainder is zero. How do you check if a number is even or not using python?"
   ]
  },
  {
   "cell_type": "code",
   "execution_count": null,
   "metadata": {},
   "outputs": [],
   "source": [
    "e.g. x%2 == 0 will be true if x is even and false if x is odd\n",
    "x = 7\n",
    "print(\"x is even: \", x%2==0)"
   ]
  },
  {
   "cell_type": "markdown",
   "metadata": {},
   "source": [
    "##### 18. Check if the floor division of 7 by 3 is equal to the int converted value of 2.7."
   ]
  },
  {
   "cell_type": "code",
   "execution_count": null,
   "metadata": {},
   "outputs": [],
   "source": [
    "print(\"Checking: \", 7 // 3 == 2.7) "
   ]
  },
  {
   "cell_type": "markdown",
   "metadata": {},
   "source": [
    "##### 19. Check if type of '10' is equal to type of 10"
   ]
  },
  {
   "cell_type": "code",
   "execution_count": null,
   "metadata": {},
   "outputs": [],
   "source": [
    "print(\"Cheking again!: \", type('10')== type(10))"
   ]
  },
  {
   "cell_type": "markdown",
   "metadata": {},
   "source": [
    "##### 20. Check if int('9.8') is equal to 10"
   ]
  },
  {
   "cell_type": "code",
   "execution_count": null,
   "metadata": {},
   "outputs": [],
   "source": [
    "print(\"Checking yet again: \", int('9.8') == 10)"
   ]
  },
  {
   "cell_type": "markdown",
   "metadata": {},
   "source": [
    "##### 21. Writ a script that prompts the user to enter hours and rate per hour. Calculate pay of the person?"
   ]
  },
  {
   "cell_type": "code",
   "execution_count": null,
   "metadata": {},
   "outputs": [],
   "source": [
    "x = float(input(\"40:\"))\n",
    "y = float(input(\"28: \"))\n",
    "z = x * y\n",
    "print(\"Your weekly earning is: \", z)\n"
   ]
  },
  {
   "cell_type": "markdown",
   "metadata": {},
   "source": [
    "##### 22. Write a script that prompts the user to enter number of years. Calculate the number of seconds a person can live. Assume a person can live hundred years"
   ]
  },
  {
   "cell_type": "code",
   "execution_count": null,
   "metadata": {},
   "outputs": [],
   "source": [
    "years = int(input(\"100: \"))\n",
    "seconds = years * 365 * 24 * 60 * 60 "
   ]
  },
  {
   "cell_type": "markdown",
   "metadata": {},
   "source": [
    "##### 23. Write a Python script that displays the following table"
   ]
  },
  {
   "cell_type": "code",
   "execution_count": null,
   "metadata": {},
   "outputs": [],
   "source": [
    "for i in range(1, 6):\n",
    "    for j in range(1, 5):\n",
    "        print(i ** (j-1), end=\" \")\n",
    "    print()\n",
    "\n",
    "    print('1\\t1\\t1\\t1\\t1\\n2\\t1\\t2\\t4\\t8\\n3\\t1\\t3\\t9\\t27\\n4\\t1\\t4\\t16\\t64\\n5\\t1\\t5\\t25\\t125')\n",
    "\n",
    "    for i in range(1, 6):\n",
    "    for j in range(1, 5):\n",
    "        print(f'{i ** (j-1)}', end=\" \")\n",
    "    print()\n",
    "\n",
    "    for i in range(1,6):\n",
    "    line = ''\n",
    "    for j in (1,0,1,2,3):\n",
    "        line += str(i**j) + ' '\n",
    "    print(line)"
   ]
  }
 ],
 "metadata": {
  "kernelspec": {
   "display_name": "base",
   "language": "python",
   "name": "python3"
  },
  "language_info": {
   "codemirror_mode": {
    "name": "ipython",
    "version": 3
   },
   "file_extension": ".py",
   "mimetype": "text/x-python",
   "name": "python",
   "nbconvert_exporter": "python",
   "pygments_lexer": "ipython3",
   "version": "3.12.7"
  }
 },
 "nbformat": 4,
 "nbformat_minor": 2
}
